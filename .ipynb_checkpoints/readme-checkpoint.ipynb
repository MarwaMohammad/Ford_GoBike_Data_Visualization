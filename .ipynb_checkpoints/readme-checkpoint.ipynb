{
 "cells": [
  {
   "cell_type": "markdown",
   "metadata": {},
   "source": [
    "# Ford-GoBike-Data-Visualization Project"
   ]
  },
  {
   "cell_type": "markdown",
   "metadata": {},
   "source": [
    "## Introduction"
   ]
  },
  {
   "cell_type": "markdown",
   "metadata": {},
   "source": [
    "Ford-GoBike dataset includes information about individual rides made in a Bikesharing system"
   ]
  },
  {
   "cell_type": "markdown",
   "metadata": {},
   "source": [
    "## Dataset Wrangling"
   ]
  },
  {
   "cell_type": "raw",
   "metadata": {},
   "source": [
    "#Here all the required packages.\n",
    "import seaborn as sns\n",
    "import pandas as pd\n",
    "import numpy as np\n",
    "import matplotlib.pyplot as plt\n",
    "%matplotlib inline "
   ]
  },
  {
   "cell_type": "raw",
   "metadata": {},
   "source": [
    "df = pd.read_csv('201902-fordgobike-tripdata.csv')"
   ]
  },
  {
   "cell_type": "markdown",
   "metadata": {},
   "source": [
    "This dataset has the following columns:,\n",
    "-  duration_sec: The bike duratio in seconds.,\n",
    "-  start_time,   \n",
    "-  end_time,\n",
    "-  start_station_id,\n",
    "-  start_station_name,\n",
    "-  start_station_latitude,\n",
    "-  start_station_longitude,\n",
    "-  end_station_id,\n",
    "-  end_station_name,\n",
    "- end_station_latitude,\n",
    "- end_station_longitude,\n",
    "- bike_id,\n",
    "- user_type,\n",
    "- member_birth_year,\n",
    "- member_gender,\n",
    "- bike_share_for_all_trip"
   ]
  },
  {
   "cell_type": "markdown",
   "metadata": {},
   "source": [
    "## Wrangeling\n",
    "This dataset requires wrangeling since it has the following:\n",
    "- There are some None values which should be removed.\n",
    "- The datatype for some columns should fixed.\n",
    "- Adding some columns which are necessary to do our insights.\n",
    "- Removing some columns which are not necessary for our analysis"
   ]
  },
  {
   "cell_type": "markdown",
   "metadata": {},
   "source": [
    "## Questions\n",
    "- What is the relation between \"gender_type, user type, age\" and the count of shares. \n",
    "- What is the relation between \"gender_type, user type, age\" and the duration of share.\n",
    "- What is the names for 1st 10 stations' names.\n",
    "- The patterns for the duration with each gender male, female, others.\n",
    "- The discription of share count pattern every day, and every weekday name.\n"
   ]
  },
  {
   "cell_type": "markdown",
   "metadata": {},
   "source": [
    "In exploration step I did the following to answer the questions:\n",
    "- Univariate visualization.\n",
    "- Bivariate visualization.\n",
    "- Multivariate visualization.\n"
   ]
  },
  {
   "cell_type": "markdown",
   "metadata": {},
   "source": [
    "## Conclusion"
   ]
  },
  {
   "cell_type": "markdown",
   "metadata": {},
   "source": [
    "From above explorations, we can summerize the followings:\n",
    "- The Male has higher percentage \"74.6%\" than Female \"23.3%\" or other\"2.6\"  in using the Bikesharing.\n",
    "- The Subscriber user type has a higher percentage 90.5% than Customer \"9.5%\" in using Bikesharing.\n",
    "- More than 70% of ages who use the Bikesharing system is from 20 to 50.\n",
    "- Most of Rides are on weekdays Monday, Tuesday, Wedensday, Thrusday, Friday but the least Rides on Weekdays Saturday, and Sunday.\n",
    "- Most of rides between 7 am to 7 pm.\n",
    "- pepole who was born after 1965 to 2000 who use the Bikesharing system more and longer than who born before that.\n",
    "- The People from 20 to 55 use Bikesharing System more and loger than older ages.\n",
    "- Others use the Bikesharing for longer time than males or females.\n",
    "- Cusotmer user type use the Bikesharing System longer than the Subscriber user type on average.\n",
    "- Usually Duration avergae for week ends \"Saturday and Sunday\" is longer than durations on work days.\n",
    "- The duration on average between 1:30 to 3:30 is longer than the durations at any other hour.\n",
    "    "
   ]
  },
  {
   "cell_type": "code",
   "execution_count": null,
   "metadata": {},
   "outputs": [],
   "source": []
  }
 ],
 "metadata": {
  "kernelspec": {
   "display_name": "Python 3",
   "language": "python",
   "name": "python3"
  },
  "language_info": {
   "codemirror_mode": {
    "name": "ipython",
    "version": 3
   },
   "file_extension": ".py",
   "mimetype": "text/x-python",
   "name": "python",
   "nbconvert_exporter": "python",
   "pygments_lexer": "ipython3",
   "version": "3.8.3"
  }
 },
 "nbformat": 4,
 "nbformat_minor": 4
}
